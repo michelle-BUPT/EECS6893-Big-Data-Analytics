{
 "cells": [
  {
   "cell_type": "markdown",
   "metadata": {},
   "source": [
    "# Question3 "
   ]
  },
  {
   "cell_type": "markdown",
   "metadata": {},
   "source": [
    "## create/import data"
   ]
  },
  {
   "cell_type": "code",
   "execution_count": 1,
   "metadata": {},
   "outputs": [
    {
     "name": "stdout",
     "output_type": "stream",
     "text": [
      "+--------------------+-----+\n",
      "|            features|label|\n",
      "+--------------------+-----+\n",
      "|[1.0,22.08,11.46,...|    0|\n",
      "|[0.0,22.67,7.0,2....|    0|\n",
      "|[0.0,29.58,1.75,1...|    0|\n",
      "|[0.0,21.67,11.5,1...|    1|\n",
      "|[1.0,20.17,8.17,2...|    1|\n",
      "|[0.0,15.83,0.585,...|    1|\n",
      "|[1.0,17.42,6.5,2....|    0|\n",
      "|[0.0,58.67,4.46,2...|    1|\n",
      "|[1.0,27.83,1.0,1....|    0|\n",
      "|[0.0,55.75,7.08,2...|    0|\n",
      "|[1.0,33.5,1.75,2....|    1|\n",
      "|[1.0,41.42,5.0,2....|    1|\n",
      "|[1.0,20.67,1.25,1...|    0|\n",
      "|[1.0,34.92,5.0,2....|    1|\n",
      "|[1.0,58.58,2.71,2...|    0|\n",
      "|[1.0,48.08,6.04,2...|    1|\n",
      "|[1.0,29.58,4.5,2....|    1|\n",
      "|[0.0,18.92,9.0,2....|    1|\n",
      "|[1.0,20.0,1.25,1....|    0|\n",
      "|[0.0,22.42,5.665,...|    1|\n",
      "+--------------------+-----+\n",
      "only showing top 20 rows\n",
      "\n"
     ]
    }
   ],
   "source": [
    "from pyspark.ml.feature import HashingTF, IDF, Tokenizer\n",
    "from pyspark.ml.linalg import Vectors\n",
    "from pyspark.sql import Row\n",
    "from pyspark.ml.classification import NaiveBayes\n",
    "from pyspark.ml.evaluation import MulticlassClassificationEvaluator\n",
    "\n",
    "from pyspark.context import SparkContext\n",
    "from pyspark.sql.session import SparkSession\n",
    "sc = SparkContext('local')\n",
    "spark = SparkSession(sc)\n",
    "\n",
    "#lines = spark.read.text('/Users/littleostrichsnewmacbook/Desktop/bigdata-hw2/pima-indians-diabetes.data.txt').rdd\n",
    "#parts = lines.map(lambda row: row.value.split(\",\"))\n",
    "#rdd = parts.map(lambda p: Row(features = \n",
    "#                              Vectors.dense([p[0], p[1], p[2], p[3], p[4], p[5], p[6], p[7]]), \n",
    "#                              label = int(p[8])))\n",
    "lines = spark.read.text('/Users/littleostrichsnewmacbook/Desktop/bigdata-hw2/australian.dat.txt').rdd\n",
    "parts = lines.map(lambda row: row.value.split(\" \"))\n",
    "rdd = parts.map(lambda p: Row(features = \n",
    "                              Vectors.dense([p[0], p[1], p[2], p[3], p[4], p[5], p[6], p[7],\n",
    "                                             p[8], p[9], p[10], p[11], p[12], p[13]]), \n",
    "                              label = int(p[14])))\n",
    "sentenceData = spark.createDataFrame(rdd)\n",
    "sentenceData.show()\n"
   ]
  },
  {
   "cell_type": "code",
   "execution_count": 2,
   "metadata": {},
   "outputs": [],
   "source": [
    "(trainingData, testData) = sentenceData.randomSplit([0.7, 0.3], 1234)"
   ]
  },
  {
   "cell_type": "code",
   "execution_count": 3,
   "metadata": {},
   "outputs": [
    {
     "name": "stdout",
     "output_type": "stream",
     "text": [
      "+--------------------+-----+--------------------+--------------------+----------+\n",
      "|            features|label|       rawPrediction|         probability|prediction|\n",
      "+--------------------+-----+--------------------+--------------------+----------+\n",
      "|[0.0,15.75,0.375,...|    0|[-244.06463338884...|[1.0,1.0122618164...|       0.0|\n",
      "|[0.0,15.83,0.585,...|    1|[-264.49410292403...|[1.0,1.6276820685...|       0.0|\n",
      "|[0.0,15.83,7.625,...|    0|[-313.92042462276...|[1.70776576918489...|       1.0|\n",
      "|[0.0,17.92,0.54,2...|    0|[-232.06313853818...|[1.0,2.1112545394...|       0.0|\n",
      "|[0.0,19.17,0.585,...|    0|[-272.79791554173...|[1.0,5.9872430072...|       0.0|\n",
      "|[0.0,19.17,5.415,...|    0|[-594.71565997126...|[2.52923312237621...|       1.0|\n",
      "|[0.0,19.58,0.665,...|    0|[-339.68589801847...|[1.0,5.8127241738...|       0.0|\n",
      "|[0.0,20.08,0.125,...|    1|[-962.35257974460...|[1.80687719632093...|       1.0|\n",
      "|[0.0,20.42,7.5,2....|    1|[-498.57919089998...|[1.0,1.4607115405...|       0.0|\n",
      "|[0.0,20.67,1.835,...|    1|[-2332.0874281673...|           [0.0,1.0]|       1.0|\n",
      "|[0.0,20.75,10.25,...|    1|[-276.20059581465...|[1.0,6.9176748806...|       0.0|\n",
      "|[0.0,20.75,10.335...|    1|[-360.19579280889...|[1.0,5.6152679546...|       0.0|\n",
      "|[0.0,20.83,3.0,2....|    1|[-232.81368776337...|[1.0,3.9392176741...|       0.0|\n",
      "|[0.0,21.67,11.5,1...|    1|[-261.08571125891...|[1.0,7.1620889242...|       0.0|\n",
      "|[0.0,22.5,11.0,1....|    0|[-459.10238856519...|[1.0,5.8337294490...|       0.0|\n",
      "|[0.0,22.67,0.75,2...|    0|[-656.40558693865...|[1.0,1.1182383029...|       0.0|\n",
      "|[0.0,23.25,5.875,...|    1|[-572.00813776103...|[1.0,3.3698909831...|       0.0|\n",
      "|[0.0,23.58,0.585,...|    0|[-264.55121355163...|[1.0,1.7903727263...|       0.0|\n",
      "|[0.0,23.58,0.83,2...|    0|[-361.21778571267...|[1.0,2.8029353326...|       0.0|\n",
      "|[0.0,23.75,0.71,2...|    0|[-380.30511894749...|[1.0,5.8293999979...|       0.0|\n",
      "+--------------------+-----+--------------------+--------------------+----------+\n",
      "only showing top 20 rows\n",
      "\n",
      "Test set accuracy = 0.683673469388\n"
     ]
    }
   ],
   "source": [
    "\n",
    "model = NaiveBayes(smoothing=1.0, modelType=\"multinomial\").fit(trainingData)\n",
    "predictions = model.transform(testData)\n",
    "predictions.show()\n",
    "evaluator = MulticlassClassificationEvaluator().setLabelCol(\"label\").setPredictionCol(\"prediction\").setMetricName(\"accuracy\")\n",
    "accuracy = evaluator.evaluate(predictions)\n",
    "print(\"Test set accuracy = \" + str(accuracy))\n"
   ]
  },
  {
   "cell_type": "code",
   "execution_count": null,
   "metadata": {
    "collapsed": true
   },
   "outputs": [],
   "source": []
  }
 ],
 "metadata": {
  "kernelspec": {
   "display_name": "Python 2",
   "language": "python",
   "name": "python2"
  },
  "language_info": {
   "codemirror_mode": {
    "name": "ipython",
    "version": 2
   },
   "file_extension": ".py",
   "mimetype": "text/x-python",
   "name": "python",
   "nbconvert_exporter": "python",
   "pygments_lexer": "ipython2",
   "version": "2.7.14"
  }
 },
 "nbformat": 4,
 "nbformat_minor": 2
}
