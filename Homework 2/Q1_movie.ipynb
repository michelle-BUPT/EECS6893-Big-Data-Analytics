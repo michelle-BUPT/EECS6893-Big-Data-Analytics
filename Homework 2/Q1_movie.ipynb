{
 "cells": [
  {
   "cell_type": "markdown",
   "metadata": {},
   "source": [
    "# Question1"
   ]
  },
  {
   "cell_type": "markdown",
   "metadata": {},
   "source": [
    "## data clean and vectorization "
   ]
  },
  {
   "cell_type": "markdown",
   "metadata": {},
   "source": [
    "#### create DataFrame"
   ]
  },
  {
   "cell_type": "code",
   "execution_count": 1,
   "metadata": {
    "collapsed": true
   },
   "outputs": [],
   "source": [
    "from pyspark.ml.evaluation import RegressionEvaluator\n",
    "from pyspark.ml.recommendation import ALS\n",
    "from pyspark.sql import Row\n",
    "\n",
    "from pyspark.context import SparkContext\n",
    "from pyspark.sql.session import SparkSession\n",
    "sc = SparkContext('local')\n",
    "spark = SparkSession(sc)\n",
    "\n",
    "#data cleaning via RDD\n",
    "lines = spark.read.text(\"/Users/littleostrichsnewmacbook/Desktop/bigdata-hw2/Q1/jester_ratings.dat\").rdd\n",
    "parts = lines.map(lambda row: row.value.split(\"\t\t\"))\n",
    "ratingsRDD = parts.map(lambda p: Row(userId=int(p[0]), jokeId=int(p[1]),\n",
    "                                     rating=float(p[2])))"
   ]
  },
  {
   "cell_type": "code",
   "execution_count": 2,
   "metadata": {},
   "outputs": [
    {
     "name": "stdout",
     "output_type": "stream",
     "text": [
      "+------+------+------+\n",
      "|jokeId|rating|userId|\n",
      "+------+------+------+\n",
      "|     5| 0.219|     1|\n",
      "|     7|-9.281|     1|\n",
      "|     8|-9.281|     1|\n",
      "|    13|-6.781|     1|\n",
      "|    15| 0.875|     1|\n",
      "|    16|-9.656|     1|\n",
      "|    17|-9.031|     1|\n",
      "|    18|-7.469|     1|\n",
      "|    19|-8.719|     1|\n",
      "|    20|-9.156|     1|\n",
      "|    21|-7.188|     1|\n",
      "|    22|-8.781|     1|\n",
      "|    23|-8.531|     1|\n",
      "|    24|-7.906|     1|\n",
      "|    25|-7.469|     1|\n",
      "|    89| 9.812|     1|\n",
      "|    50| 9.906|     1|\n",
      "|   102|  0.75|     1|\n",
      "|   103|  -5.0|     1|\n",
      "|   104| 2.938|     1|\n",
      "+------+------+------+\n",
      "only showing top 20 rows\n",
      "\n"
     ]
    }
   ],
   "source": [
    "ratings = spark.createDataFrame(ratingsRDD)\n",
    "ratings.show()\n",
    "#ratings.select(\"userId\",\"movieId\",\"rating\").filter(ratings.rating>2).show()"
   ]
  },
  {
   "cell_type": "markdown",
   "metadata": {},
   "source": [
    "#### splitting train/test datasets "
   ]
  },
  {
   "cell_type": "code",
   "execution_count": 3,
   "metadata": {
    "collapsed": true
   },
   "outputs": [],
   "source": [
    "(training, test) = ratings.randomSplit([0.8, 0.2])\n",
    "\n",
    "# Build the recommendation model using ALS on the training data\n",
    "# Note we set cold start strategy to 'drop' to ensure we don't get NaN evaluation metrics"
   ]
  },
  {
   "cell_type": "markdown",
   "metadata": {},
   "source": [
    "## Build pipeline and model "
   ]
  },
  {
   "cell_type": "code",
   "execution_count": 4,
   "metadata": {},
   "outputs": [],
   "source": [
    "#start pipeline\n",
    "#Build als model and set parameters\n",
    "als = ALS(maxIter=5, regParam=0.01, implicitPrefs=True,userCol=\"userId\", itemCol=\"jokeId\", ratingCol=\"rating\",\n",
    "          coldStartStrategy=\"drop\")\n",
    "\n",
    "#fit training data into model\n",
    "model = als.fit(training)\n",
    "\n"
   ]
  },
  {
   "cell_type": "markdown",
   "metadata": {},
   "source": [
    "## Results  "
   ]
  },
  {
   "cell_type": "code",
   "execution_count": 5,
   "metadata": {},
   "outputs": [
    {
     "name": "stdout",
     "output_type": "stream",
     "text": [
      "Root-mean-square error = 5.28366494368\n"
     ]
    }
   ],
   "source": [
    "# Evaluate the model by computing the RMSE(root mean square error) on the test data\n",
    "#transform dataframe->model->dataframe\n",
    "predictions = model.transform(test)\n",
    "evaluator = RegressionEvaluator(metricName=\"rmse\", labelCol=\"rating\",\n",
    "                                predictionCol=\"prediction\")\n",
    "rmse = evaluator.evaluate(predictions)\n",
    "print(\"Root-mean-square error = \" + str(rmse))\n",
    "# Generate top 10 movie recommendations for each user\n",
    "userRecs = model.recommendForAllUsers(10)\n",
    "# Generate top 10 user recommendations for each movie\n",
    "movieRecs = model.recommendForAllItems(10)"
   ]
  },
  {
   "cell_type": "code",
   "execution_count": 6,
   "metadata": {},
   "outputs": [
    {
     "name": "stdout",
     "output_type": "stream",
     "text": [
      "+------+-----------------------------------------------------------------------------------------------------------------------------------------------------------------------------+\n",
      "|userId|recommendations                                                                                                                                                              |\n",
      "+------+-----------------------------------------------------------------------------------------------------------------------------------------------------------------------------+\n",
      "|148   |[[18,1.0576177], [53,0.94112104], [35,0.93663365], [105,0.89039695], [16,0.8419746], [19,0.8298727], [17,0.821825], [117,0.81641746], [72,0.8144705], [76,0.8115986]]        |\n",
      "|463   |[[17,1.0685358], [18,0.973804], [19,0.87529767], [7,0.84893125], [16,0.79163754], [8,0.65068066], [58,0.33258885], [89,0.32694378], [99,0.291487], [75,0.28846085]]          |\n",
      "|471   |[[63,0.914786], [35,0.89350754], [15,0.87503934], [105,0.87342507], [97,0.863767], [126,0.85842514], [62,0.8057023], [53,0.80073094], [13,0.777335], [122,0.7744597]]        |\n",
      "|496   |[[8,1.1842722], [17,1.0559268], [7,0.90053415], [138,0.7283483], [19,0.67173505], [139,0.65392125], [119,0.65248376], [78,0.6442915], [127,0.64329106], [13,0.63580704]]     |\n",
      "|833   |[[138,0.9155132], [127,0.83719045], [139,0.7892608], [120,0.7696153], [149,0.76819396], [107,0.76669276], [93,0.75341254], [115,0.7500967], [92,0.72589105], [111,0.7191423]]|\n",
      "+------+-----------------------------------------------------------------------------------------------------------------------------------------------------------------------------+\n",
      "only showing top 5 rows\n",
      "\n"
     ]
    }
   ],
   "source": [
    "userRecs.show(5,False)"
   ]
  },
  {
   "cell_type": "code",
   "execution_count": null,
   "metadata": {
    "collapsed": true
   },
   "outputs": [],
   "source": []
  }
 ],
 "metadata": {
  "kernelspec": {
   "display_name": "Python 2",
   "language": "python",
   "name": "python2"
  },
  "language_info": {
   "codemirror_mode": {
    "name": "ipython",
    "version": 2
   },
   "file_extension": ".py",
   "mimetype": "text/x-python",
   "name": "python",
   "nbconvert_exporter": "python",
   "pygments_lexer": "ipython2",
   "version": "2.7.14"
  }
 },
 "nbformat": 4,
 "nbformat_minor": 2
}
