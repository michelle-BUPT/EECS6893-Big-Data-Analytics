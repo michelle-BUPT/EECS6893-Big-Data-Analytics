{
 "cells": [
  {
   "cell_type": "code",
   "execution_count": 1,
   "metadata": {
    "collapsed": true
   },
   "outputs": [],
   "source": [
    "import graphdb_client\n",
    "import logging \n",
    "import json\n",
    "\n",
    "\n",
    "logging.basicConfig(level=logging.DEBUG, format='[%(levelname)s] %(lineno)s %(message)s',)\n",
    "g = graphdb_client.gc(host = 'http://localhost:8010')\n",
    "    \n",
    "# Load header vertex file which file is locate on the user machine\n",
    "def load_frompage_vertex():\n",
    "    vertex_file_path='../data/from_ver.csv'\n",
    "    has_header = 1\n",
    "    column_delimiter = ','\n",
    "    default_vertex_label = \"FROM\"\n",
    "    #in the content_type {\"aaa\":['aa','INT']}  \n",
    "    #'aa' is the column name in the csv's header, 'aaa' is the property name you want to call in your graph\n",
    "    \n",
    "    content_type = [\n",
    "    {\"fr_timestamp\": [\"fr_timestamp\", \"STRING\"]}\n",
    "    ]\n",
    "\n",
    "    column_header_map = {\n",
    "                \"vertex_id\": \"fr_page_id\",\n",
    "                \"properties\":content_type\n",
    "            }\n",
    "\n",
    "\n",
    "    rc = g.load_table_vertex(file_path = vertex_file_path,\n",
    "                        has_header = has_header,\n",
    "                        column_delimiter = column_delimiter, \n",
    "                        default_vertex_label = default_vertex_label,  \n",
    "                        column_header_map = column_header_map, \n",
    "                        column_number_map=[{}],\n",
    "                        content_type = content_type,\n",
    "                        data_row_start = -1, \n",
    "                        data_row_end = -1)\n",
    "    print rc\n",
    "    \n",
    "def load_topage_vertex():\n",
    "    vertex_file_path='../data/to_ver.csv'\n",
    "    has_header = 1\n",
    "    column_delimiter = ','\n",
    "    default_vertex_label = \"TO\"\n",
    "    content_type = [\n",
    "    {\"fr_rev_timestamp\": [\"fr_rev_timestamp\", \"STRING\"]}\n",
    "    ]\n",
    "\n",
    "    column_header_map = {\n",
    "                \"vertex_id\": \"fr_rev_id\",\n",
    "                \"properties\":content_type\n",
    "            }\n",
    "\n",
    "    rc = g.load_table_vertex(file_path = vertex_file_path,\n",
    "                        has_header = has_header,\n",
    "                        column_delimiter = column_delimiter, \n",
    "                        default_vertex_label = default_vertex_label,  \n",
    "                        column_header_map = column_header_map, \n",
    "                        column_number_map=[{}],\n",
    "                        content_type = content_type,\n",
    "                        data_row_start = -1, \n",
    "                        data_row_end = -1)\n",
    "    print rc\n",
    "\n",
    "# Load header edge file which file is locate on local machine\n",
    "def load_link_edge():\n",
    "    edge_file_path = '../data/edge.csv'\n",
    "    has_header = 1\n",
    "    column_delimiter = ','\n",
    "\n",
    "    default_source_label = \"FROM\"\n",
    "    default_target_label = \"TO\"\n",
    "    default_edge_label = 'LINK'\n",
    "    content_type = []\n",
    "    edge_column_header_map = {\n",
    "                \"source_id\": \"fr_page_id\",\n",
    "                \"target_id\":\"fr_rev_id\",\n",
    "                \"properties\":content_type\n",
    "            }\n",
    "\n",
    "    rc = g.load_table_edge(file_path = edge_file_path,\n",
    "                      has_header = has_header, \n",
    "                      column_delimiter= column_delimiter, \n",
    "                      default_source_label = default_source_label, \n",
    "                      default_target_label = default_target_label, \n",
    "                      default_edge_label = default_edge_label, \n",
    "                      column_header_map = edge_column_header_map,  \n",
    "                      column_number_map=[{}],\n",
    "                      data_row_start= -1, \n",
    "                      data_row_end= -1)\n",
    "    print rc\n",
    "    \n",
    "def load_link_edge_reverse():\n",
    "    edge_file_path = '../data/edge.csv'\n",
    "    has_header = 1\n",
    "    column_delimiter = ','\n",
    "    content_type = []\n",
    "    default_source_label = \"TO\"\n",
    "    default_target_label = \"FROM\"\n",
    "    default_edge_label = 'LINK'\n",
    "\n",
    "    edge_column_header_map = {\n",
    "                \"source_id\": \"fr_rev_id\",\n",
    "                \"target_id\":\"fr_page_id\",\n",
    "                \"properties\":content_type\n",
    "            }\n",
    "\n",
    "    rc = g.load_table_edge(file_path = edge_file_path,\n",
    "                      has_header = has_header, \n",
    "                      column_delimiter= column_delimiter, \n",
    "                      default_source_label = default_source_label, \n",
    "                      default_target_label = default_target_label, \n",
    "                      default_edge_label = default_edge_label, \n",
    "                      column_header_map = edge_column_header_map,  \n",
    "                      column_number_map=[{}],\n",
    "                      data_row_start= -1, \n",
    "                      data_row_end=-1)\n",
    "    print rc\n",
    "    \n",
    "    \n"
   ]
  },
  {
   "cell_type": "code",
   "execution_count": 2,
   "metadata": {},
   "outputs": [
    {
     "name": "stdout",
     "output_type": "stream",
     "text": [
      "current graph set to wiki\n"
     ]
    }
   ],
   "source": [
    "rc = g.set_current_graph('wiki')\n",
    "print (rc)\n"
   ]
  },
  {
   "cell_type": "code",
   "execution_count": 3,
   "metadata": {},
   "outputs": [
    {
     "name": "stderr",
     "output_type": "stream",
     "text": [
      "[INFO] 207 Starting new HTTP connection (1): localhost\n",
      "[DEBUG] 387 \"POST /graphs/wiki/create HTTP/1.1\" 200 21\n"
     ]
    },
    {
     "name": "stdout",
     "output_type": "stream",
     "text": [
      "{\"status\": \"success\"}\n"
     ]
    }
   ],
   "source": [
    "rc = g.create_graph(graph_name = 'wiki')\n",
    "print (rc)"
   ]
  },
  {
   "cell_type": "code",
   "execution_count": 4,
   "metadata": {},
   "outputs": [
    {
     "name": "stderr",
     "output_type": "stream",
     "text": [
      "[INFO] 207 Starting new HTTP connection (1): localhost\n",
      "[DEBUG] 387 \"POST /graphs/wiki/table/vertex HTTP/1.1\" 200 62\n"
     ]
    },
    {
     "name": "stdout",
     "output_type": "stream",
     "text": [
      "{\"status\": \"success\", \"message\": \"1231997 vertices are added\"}\n"
     ]
    }
   ],
   "source": [
    "load_frompage_vertex()"
   ]
  },
  {
   "cell_type": "code",
   "execution_count": 6,
   "metadata": {},
   "outputs": [
    {
     "name": "stderr",
     "output_type": "stream",
     "text": [
      "[INFO] 207 Starting new HTTP connection (1): localhost\n",
      "[DEBUG] 387 \"POST /graphs/wiki/table/vertex HTTP/1.1\" 200 61\n"
     ]
    },
    {
     "name": "stdout",
     "output_type": "stream",
     "text": [
      "{\"status\": \"success\", \"message\": \"999213 vertices are added\"}\n"
     ]
    }
   ],
   "source": [
    "load_topage_vertex()"
   ]
  },
  {
   "cell_type": "code",
   "execution_count": 7,
   "metadata": {},
   "outputs": [
    {
     "name": "stderr",
     "output_type": "stream",
     "text": [
      "[INFO] 207 Starting new HTTP connection (1): localhost\n",
      "[DEBUG] 387 \"POST /graphs/wiki/table/edge HTTP/1.1\" 200 59\n",
      "[INFO] 207 Starting new HTTP connection (1): localhost\n"
     ]
    },
    {
     "name": "stdout",
     "output_type": "stream",
     "text": [
      "{\"status\": \"success\", \"message\": \"1231997 edges are added\"}\n"
     ]
    },
    {
     "name": "stderr",
     "output_type": "stream",
     "text": [
      "[DEBUG] 387 \"POST /graphs/wiki/table/edge HTTP/1.1\" 200 59\n"
     ]
    },
    {
     "name": "stdout",
     "output_type": "stream",
     "text": [
      "{\"status\": \"success\", \"message\": \"1231997 edges are added\"}\n"
     ]
    }
   ],
   "source": [
    "load_link_edge()\n",
    "load_link_edge_reverse()"
   ]
  },
  {
   "cell_type": "code",
   "execution_count": 8,
   "metadata": {},
   "outputs": [
    {
     "name": "stderr",
     "output_type": "stream",
     "text": [
      "[INFO] 207 Starting new HTTP connection (1): localhost\n",
      "[DEBUG] 387 \"GET /graphs/wiki/vertices/32978/FROM HTTP/1.1\" 200 3183\n"
     ]
    },
    {
     "name": "stdout",
     "output_type": "stream",
     "text": [
      "{u'edges': [], u'vertices': [{u'label': u'FROM', u'properties': [{u'fr_timestamp': u'20140416123739'}, {u'fr_timestamp': u'20140416124242'}, {u'fr_timestamp': u'20140419000208'}, {u'fr_timestamp': u'20140421052237'}, {u'fr_timestamp': u'20140423172510'}, {u'fr_timestamp': u'20140514142103'}, {u'fr_timestamp': u'20140515135002'}, {u'fr_timestamp': u'20140525015217'}, {u'fr_timestamp': u'20140526073940'}, {u'fr_timestamp': u'20140530191614'}, {u'fr_timestamp': u'20140530213021'}, {u'fr_timestamp': u'20140712065819'}, {u'fr_timestamp': u'20140714175727'}, {u'fr_timestamp': u'20140714202139'}, {u'fr_timestamp': u'20140722083813'}, {u'fr_timestamp': u'20140730163556'}, {u'fr_timestamp': u'20140818121518'}, {u'fr_timestamp': u'20140821033058'}, {u'fr_timestamp': u'20140821033429'}, {u'fr_timestamp': u'20140825015201'}, {u'fr_timestamp': u'20140905060249'}, {u'fr_timestamp': u'20140905060339'}, {u'fr_timestamp': u'20140906064759'}, {u'fr_timestamp': u'20140925160329'}, {u'fr_timestamp': u'20140929174204'}, {u'fr_timestamp': u'20141002105102'}, {u'fr_timestamp': u'20141107020046'}, {u'fr_timestamp': u'20141109182430'}, {u'fr_timestamp': u'20141112201939'}, {u'fr_timestamp': u'20141117115115'}, {u'fr_timestamp': u'20141118223457'}, {u'fr_timestamp': u'20141119025928'}, {u'fr_timestamp': u'20141122051323'}, {u'fr_timestamp': u'20141122061555'}, {u'fr_timestamp': u'20141123232354'}, {u'fr_timestamp': u'20141204062811'}, {u'fr_timestamp': u'20141210085619'}, {u'fr_timestamp': u'20141212140249'}, {u'fr_timestamp': u'20141219210010'}, {u'fr_timestamp': u'20141220111300'}, {u'fr_timestamp': u'20141221124811'}, {u'fr_timestamp': u'20150121200318'}, {u'fr_timestamp': u'20150208155929'}, {u'fr_timestamp': u'20150208163200'}, {u'fr_timestamp': u'20150211224012'}, {u'fr_timestamp': u'20150212143639'}, {u'fr_timestamp': u'20150212161513'}, {u'fr_timestamp': u'20150214071502'}, {u'fr_timestamp': u'20150302043914'}, {u'fr_timestamp': u'20150309212627'}, {u'fr_timestamp': u'20150324013157'}, {u'fr_timestamp': u'20150326103411'}, {u'fr_timestamp': u'20150326103610'}, {u'fr_timestamp': u'20150327041349'}, {u'fr_timestamp': u'20150328184810'}, {u'fr_timestamp': u'20150328194528'}, {u'fr_timestamp': u'20150412184048'}, {u'fr_timestamp': u'20150413130446'}, {u'fr_timestamp': u'20150414175828'}, {u'fr_timestamp': u'20150430030257'}, {u'fr_timestamp': u'20150430031622'}, {u'fr_timestamp': u'20150506124430'}, {u'fr_timestamp': u'20150605170457'}, {u'fr_timestamp': u'20150622153219'}, {u'fr_timestamp': u'20150625221838'}, {u'fr_timestamp': u'20150625221924'}, {u'fr_timestamp': u'20150626184555'}, {u'fr_timestamp': u'20150702022723'}, {u'fr_timestamp': u'20150702165852'}, {u'fr_timestamp': u'20150702171421'}, {u'fr_timestamp': u'20150702171616'}, {u'fr_timestamp': u'20150706073715'}, {u'fr_timestamp': u'20150728005546'}, {u'fr_timestamp': u'20150730081358'}, {u'fr_timestamp': u'20150803013357'}, {u'fr_timestamp': u'20150807115558'}, {u'fr_timestamp': u'20150807115816'}, {u'fr_timestamp': u'20150807120009'}, {u'fr_timestamp': u'20150810060945'}, {u'fr_timestamp': u'20150824200557'}, {u'fr_timestamp': u'20150826030552'}, {u'fr_timestamp': u'20150828061642'}, {u'fr_timestamp': u'20150831113902'}, {u'fr_timestamp': u'20150917041002'}], u'id': u'32978'}]}\n"
     ]
    }
   ],
   "source": [
    "rc = g.get_vertex(vertex_label = 'FROM', vertex_id = '32978')\n",
    "\n",
    "print json.loads(rc)['data']"
   ]
  },
  {
   "cell_type": "code",
   "execution_count": 9,
   "metadata": {},
   "outputs": [
    {
     "name": "stderr",
     "output_type": "stream",
     "text": [
      "[DEBUG] 684 {'param': '{\"edge_labels\": [\"LINK\"], \"vertices\": [{\"id\": \"3793\", \"label\": \"FROM\"}, {\"id\": \"724308711\", \"label\": \"TO\"}]}'}\n",
      "[INFO] 207 Starting new HTTP connection (1): localhost\n",
      "[DEBUG] 387 \"POST /graphs/wiki/analytics/subgraph HTTP/1.1\" 200 6844\n"
     ]
    },
    {
     "name": "stdout",
     "output_type": "stream",
     "text": [
      "[{u'label': u'FROM', u'properties': [{u'fr_timestamp': u'20160123032506'}, {u'fr_timestamp': u'20160123032512'}, {u'fr_timestamp': u'20160202131541'}, {u'fr_timestamp': u'20160222064817'}, {u'fr_timestamp': u'20160229183015'}, {u'fr_timestamp': u'20160320163115'}, {u'fr_timestamp': u'20160322115552'}, {u'fr_timestamp': u'20160328154307'}, {u'fr_timestamp': u'20160331134551'}, {u'fr_timestamp': u'20160407170326'}, {u'fr_timestamp': u'20160410102807'}, {u'fr_timestamp': u'20160410103145'}, {u'fr_timestamp': u'20160415021926'}, {u'fr_timestamp': u'20160509155409'}, {u'fr_timestamp': u'20160511161322'}, {u'fr_timestamp': u'20160511163817'}, {u'fr_timestamp': u'20160514204305'}, {u'fr_timestamp': u'20160517153859'}, {u'fr_timestamp': u'20160517154034'}, {u'fr_timestamp': u'20160517154303'}, {u'fr_timestamp': u'20160517154615'}, {u'fr_timestamp': u'20160517154949'}, {u'fr_timestamp': u'20160517155125'}, {u'fr_timestamp': u'20160517160035'}, {u'fr_timestamp': u'20160517180003'}, {u'fr_timestamp': u'20160517180235'}, {u'fr_timestamp': u'20160518165526'}, {u'fr_timestamp': u'20160519110225'}, {u'fr_timestamp': u'20160519110733'}, {u'fr_timestamp': u'20160519175748'}, {u'fr_timestamp': u'20160519175827'}, {u'fr_timestamp': u'20160521114754'}, {u'fr_timestamp': u'20160529093527'}, {u'fr_timestamp': u'20160529093652'}, {u'fr_timestamp': u'20160608115718'}, {u'fr_timestamp': u'20160614104748'}, {u'fr_timestamp': u'20160614105236'}, {u'fr_timestamp': u'20160617105414'}, {u'fr_timestamp': u'20160622012834'}, {u'fr_timestamp': u'20160625101739'}, {u'fr_timestamp': u'20160625101753'}, {u'fr_timestamp': u'20160625101817'}, {u'fr_timestamp': u'20160626162023'}, {u'fr_timestamp': u'20160630151227'}, {u'fr_timestamp': u'20160717180202'}, {u'fr_timestamp': u'20160721173557'}, {u'fr_timestamp': u'20160722061020'}, {u'fr_timestamp': u'20160730154435'}, {u'fr_timestamp': u'20160730155224'}, {u'fr_timestamp': u'20160730155725'}, {u'fr_timestamp': u'20160730155955'}, {u'fr_timestamp': u'20160731182443'}, {u'fr_timestamp': u'20160731185602'}, {u'fr_timestamp': u'20160802152436'}, {u'fr_timestamp': u'20160802180033'}, {u'fr_timestamp': u'20160804090859'}, {u'fr_timestamp': u'20160804091249'}, {u'fr_timestamp': u'20160804091846'}, {u'fr_timestamp': u'20160804092128'}, {u'fr_timestamp': u'20160804092541'}, {u'fr_timestamp': u'20160804092816'}, {u'fr_timestamp': u'20160804093743'}, {u'fr_timestamp': u'20160804094801'}, {u'fr_timestamp': u'20160804100351'}, {u'fr_timestamp': u'20160804101426'}, {u'fr_timestamp': u'20160804101939'}, {u'fr_timestamp': u'20160804102024'}, {u'fr_timestamp': u'20160804141957'}, {u'fr_timestamp': u'20160804143912'}, {u'fr_timestamp': u'20160804144113'}, {u'fr_timestamp': u'20160804150307'}, {u'fr_timestamp': u'20160804150620'}, {u'fr_timestamp': u'20160804150655'}, {u'fr_timestamp': u'20160804151658'}, {u'fr_timestamp': u'20160804152502'}, {u'fr_timestamp': u'20160804175559'}, {u'fr_timestamp': u'20160805064332'}, {u'fr_timestamp': u'20160807141531'}, {u'fr_timestamp': u'20160807193050'}, {u'fr_timestamp': u'20160809155850'}, {u'fr_timestamp': u'20160825005626'}, {u'fr_timestamp': u'20160825091622'}, {u'fr_timestamp': u'20160827205823'}, {u'fr_timestamp': u'20160827210851'}, {u'fr_timestamp': u'20160829224128'}, {u'fr_timestamp': u'20160829224234'}, {u'fr_timestamp': u'20160829224509'}, {u'fr_timestamp': u'20160901042842'}, {u'fr_timestamp': u'20160913132437'}, {u'fr_timestamp': u'20160928194122'}, {u'fr_timestamp': u'20161003220219'}, {u'fr_timestamp': u'20161003220335'}, {u'fr_timestamp': u'20161003221530'}, {u'fr_timestamp': u'20161003221818'}, {u'fr_timestamp': u'20161008174530'}, {u'fr_timestamp': u'20161008194755'}, {u'fr_timestamp': u'20161010201042'}, {u'fr_timestamp': u'20161011180119'}, {u'fr_timestamp': u'20161014120246'}, {u'fr_timestamp': u'20161028134946'}, {u'fr_timestamp': u'20161120141624'}, {u'fr_timestamp': u'20161208135806'}, {u'fr_timestamp': u'20161209194718'}, {u'fr_timestamp': u'20161214014258'}, {u'fr_timestamp': u'20170103081108'}, {u'fr_timestamp': u'20170105233045'}, {u'fr_timestamp': u'20170117070003'}, {u'fr_timestamp': u'20170122165510'}, {u'fr_timestamp': u'20170122220156'}, {u'fr_timestamp': u'20170130185416'}, {u'fr_timestamp': u'20170130190706'}, {u'fr_timestamp': u'20170207211255'}, {u'fr_timestamp': u'20170209145630'}, {u'fr_timestamp': u'20170209174858'}, {u'fr_timestamp': u'20170213193321'}, {u'fr_timestamp': u'20170213194022'}, {u'fr_timestamp': u'20170217152555'}, {u'fr_timestamp': u'20170218094959'}, {u'fr_timestamp': u'20170302072602'}, {u'fr_timestamp': u'20170302132326'}, {u'fr_timestamp': u'20170303110511'}, {u'fr_timestamp': u'20170305161834'}, {u'fr_timestamp': u'20170309132844'}, {u'fr_timestamp': u'20170311005732'}, {u'fr_timestamp': u'20170311005810'}, {u'fr_timestamp': u'20170323084646'}, {u'fr_timestamp': u'20170323102641'}, {u'fr_timestamp': u'20170325094327'}, {u'fr_timestamp': u'20170327170102'}, {u'fr_timestamp': u'20170410140841'}, {u'fr_timestamp': u'20170424113129'}, {u'fr_timestamp': u'20170424113324'}, {u'fr_timestamp': u'20170424113730'}, {u'fr_timestamp': u'20170424115752'}, {u'fr_timestamp': u'20170424115856'}, {u'fr_timestamp': u'20170424120653'}, {u'fr_timestamp': u'20170424120828'}, {u'fr_timestamp': u'20170424121010'}, {u'fr_timestamp': u'20170424121435'}, {u'fr_timestamp': u'20170424121616'}, {u'fr_timestamp': u'20170424121817'}, {u'fr_timestamp': u'20170424122002'}, {u'fr_timestamp': u'20170427150157'}, {u'fr_timestamp': u'20170501163611'}, {u'fr_timestamp': u'20170508111344'}, {u'fr_timestamp': u'20170525131027'}, {u'fr_timestamp': u'20170528132958'}, {u'fr_timestamp': u'20170531174835'}, {u'fr_timestamp': u'20170603012014'}, {u'fr_timestamp': u'20170612073722'}, {u'fr_timestamp': u'20170622211500'}, {u'fr_timestamp': u'20170625100601'}, {u'fr_timestamp': u'20170706102214'}, {u'fr_timestamp': u'20170726042407'}, {u'fr_timestamp': u'20170803190546'}, {u'fr_timestamp': u'20170807164604'}, {u'fr_timestamp': u'20170808150427'}, {u'fr_timestamp': u'20170809034251'}, {u'fr_timestamp': u'20170821055737'}, {u'fr_timestamp': u'20170822032041'}, {u'fr_timestamp': u'20170822032220'}, {u'fr_timestamp': u'20170822095837'}, {u'fr_timestamp': u'20170903083924'}, {u'fr_timestamp': u'20170907190324'}, {u'fr_timestamp': u'20170908031633'}, {u'fr_timestamp': u'20170908112756'}, {u'fr_timestamp': u'20170910221356'}, {u'fr_timestamp': u'20170912122038'}, {u'fr_timestamp': u'20170913072936'}, {u'fr_timestamp': u'20170913105312'}, {u'fr_timestamp': u'20170913172633'}, {u'fr_timestamp': u'20170918190326'}, {u'fr_timestamp': u'20170923192004'}, {u'fr_timestamp': u'20170925172713'}, {u'fr_timestamp': u'20170925173851'}, {u'fr_timestamp': u'20170925174229'}, {u'fr_timestamp': u'20170930133604'}, {u'fr_timestamp': u'20171001160801'}], u'id': u'3793'}, {u'label': u'TO', u'properties': [], u'id': u'724308711'}]\n"
     ]
    }
   ],
   "source": [
    "vertex_id = ['3793', '724308711']\n",
    "vertex_label = ['FROM', 'TO']\n",
    "rc = g.get_subgraph(vertex_ids = vertex_id, vertex_labels = vertex_label, edge_labels = ['LINK'])\n",
    "print json.loads(rc)['data']['vertices']"
   ]
  },
  {
   "cell_type": "code",
   "execution_count": 11,
   "metadata": {},
   "outputs": [
    {
     "name": "stderr",
     "output_type": "stream",
     "text": [
      "[DEBUG] 700 {'param': '{\"depth\": 2, \"vertex_target\": {\"id\": \"725230213\", \"label\": \"TO\"}, \"edge_labels\": [\"LINK\"], \"vertex_source\": {\"id\": \"3793\", \"label\": \"FROM\"}}'}\n",
      "[INFO] 207 Starting new HTTP connection (1): localhost\n",
      "[DEBUG] 387 \"POST /graphs/wiki/analytics/path HTTP/1.1\" 200 6731\n"
     ]
    },
    {
     "name": "stdout",
     "output_type": "stream",
     "text": [
      "{u'status': u'success', u'statistics': {u'num_vertices': 2, u'num_edges': 1}, u'data': {u'edges': [{u'source_id': u'3793', u'label': u'LINK', u'target_id': u'725230213', u'properties': [], u'eid': 13835058055282196643L}], u'vertices': [{u'label': u'FROM', u'properties': [{u'fr_timestamp': u'20160123032506'}, {u'fr_timestamp': u'20160123032512'}, {u'fr_timestamp': u'20160202131541'}, {u'fr_timestamp': u'20160222064817'}, {u'fr_timestamp': u'20160229183015'}, {u'fr_timestamp': u'20160320163115'}, {u'fr_timestamp': u'20160322115552'}, {u'fr_timestamp': u'20160328154307'}, {u'fr_timestamp': u'20160331134551'}, {u'fr_timestamp': u'20160407170326'}, {u'fr_timestamp': u'20160410102807'}, {u'fr_timestamp': u'20160410103145'}, {u'fr_timestamp': u'20160415021926'}, {u'fr_timestamp': u'20160509155409'}, {u'fr_timestamp': u'20160511161322'}, {u'fr_timestamp': u'20160511163817'}, {u'fr_timestamp': u'20160514204305'}, {u'fr_timestamp': u'20160517153859'}, {u'fr_timestamp': u'20160517154034'}, {u'fr_timestamp': u'20160517154303'}, {u'fr_timestamp': u'20160517154615'}, {u'fr_timestamp': u'20160517154949'}, {u'fr_timestamp': u'20160517155125'}, {u'fr_timestamp': u'20160517160035'}, {u'fr_timestamp': u'20160517180003'}, {u'fr_timestamp': u'20160517180235'}, {u'fr_timestamp': u'20160518165526'}, {u'fr_timestamp': u'20160519110225'}, {u'fr_timestamp': u'20160519110733'}, {u'fr_timestamp': u'20160519175748'}, {u'fr_timestamp': u'20160519175827'}, {u'fr_timestamp': u'20160521114754'}, {u'fr_timestamp': u'20160529093527'}, {u'fr_timestamp': u'20160529093652'}, {u'fr_timestamp': u'20160608115718'}, {u'fr_timestamp': u'20160614104748'}, {u'fr_timestamp': u'20160614105236'}, {u'fr_timestamp': u'20160617105414'}, {u'fr_timestamp': u'20160622012834'}, {u'fr_timestamp': u'20160625101739'}, {u'fr_timestamp': u'20160625101753'}, {u'fr_timestamp': u'20160625101817'}, {u'fr_timestamp': u'20160626162023'}, {u'fr_timestamp': u'20160630151227'}, {u'fr_timestamp': u'20160717180202'}, {u'fr_timestamp': u'20160721173557'}, {u'fr_timestamp': u'20160722061020'}, {u'fr_timestamp': u'20160730154435'}, {u'fr_timestamp': u'20160730155224'}, {u'fr_timestamp': u'20160730155725'}, {u'fr_timestamp': u'20160730155955'}, {u'fr_timestamp': u'20160731182443'}, {u'fr_timestamp': u'20160731185602'}, {u'fr_timestamp': u'20160802152436'}, {u'fr_timestamp': u'20160802180033'}, {u'fr_timestamp': u'20160804090859'}, {u'fr_timestamp': u'20160804091249'}, {u'fr_timestamp': u'20160804091846'}, {u'fr_timestamp': u'20160804092128'}, {u'fr_timestamp': u'20160804092541'}, {u'fr_timestamp': u'20160804092816'}, {u'fr_timestamp': u'20160804093743'}, {u'fr_timestamp': u'20160804094801'}, {u'fr_timestamp': u'20160804100351'}, {u'fr_timestamp': u'20160804101426'}, {u'fr_timestamp': u'20160804101939'}, {u'fr_timestamp': u'20160804102024'}, {u'fr_timestamp': u'20160804141957'}, {u'fr_timestamp': u'20160804143912'}, {u'fr_timestamp': u'20160804144113'}, {u'fr_timestamp': u'20160804150307'}, {u'fr_timestamp': u'20160804150620'}, {u'fr_timestamp': u'20160804150655'}, {u'fr_timestamp': u'20160804151658'}, {u'fr_timestamp': u'20160804152502'}, {u'fr_timestamp': u'20160804175559'}, {u'fr_timestamp': u'20160805064332'}, {u'fr_timestamp': u'20160807141531'}, {u'fr_timestamp': u'20160807193050'}, {u'fr_timestamp': u'20160809155850'}, {u'fr_timestamp': u'20160825005626'}, {u'fr_timestamp': u'20160825091622'}, {u'fr_timestamp': u'20160827205823'}, {u'fr_timestamp': u'20160827210851'}, {u'fr_timestamp': u'20160829224128'}, {u'fr_timestamp': u'20160829224234'}, {u'fr_timestamp': u'20160829224509'}, {u'fr_timestamp': u'20160901042842'}, {u'fr_timestamp': u'20160913132437'}, {u'fr_timestamp': u'20160928194122'}, {u'fr_timestamp': u'20161003220219'}, {u'fr_timestamp': u'20161003220335'}, {u'fr_timestamp': u'20161003221530'}, {u'fr_timestamp': u'20161003221818'}, {u'fr_timestamp': u'20161008174530'}, {u'fr_timestamp': u'20161008194755'}, {u'fr_timestamp': u'20161010201042'}, {u'fr_timestamp': u'20161011180119'}, {u'fr_timestamp': u'20161014120246'}, {u'fr_timestamp': u'20161028134946'}, {u'fr_timestamp': u'20161120141624'}, {u'fr_timestamp': u'20161208135806'}, {u'fr_timestamp': u'20161209194718'}, {u'fr_timestamp': u'20161214014258'}, {u'fr_timestamp': u'20170103081108'}, {u'fr_timestamp': u'20170105233045'}, {u'fr_timestamp': u'20170117070003'}, {u'fr_timestamp': u'20170122165510'}, {u'fr_timestamp': u'20170122220156'}, {u'fr_timestamp': u'20170130185416'}, {u'fr_timestamp': u'20170130190706'}, {u'fr_timestamp': u'20170207211255'}, {u'fr_timestamp': u'20170209145630'}, {u'fr_timestamp': u'20170209174858'}, {u'fr_timestamp': u'20170213193321'}, {u'fr_timestamp': u'20170213194022'}, {u'fr_timestamp': u'20170217152555'}, {u'fr_timestamp': u'20170218094959'}, {u'fr_timestamp': u'20170302072602'}, {u'fr_timestamp': u'20170302132326'}, {u'fr_timestamp': u'20170303110511'}, {u'fr_timestamp': u'20170305161834'}, {u'fr_timestamp': u'20170309132844'}, {u'fr_timestamp': u'20170311005732'}, {u'fr_timestamp': u'20170311005810'}, {u'fr_timestamp': u'20170323084646'}, {u'fr_timestamp': u'20170323102641'}, {u'fr_timestamp': u'20170325094327'}, {u'fr_timestamp': u'20170327170102'}, {u'fr_timestamp': u'20170410140841'}, {u'fr_timestamp': u'20170424113129'}, {u'fr_timestamp': u'20170424113324'}, {u'fr_timestamp': u'20170424113730'}, {u'fr_timestamp': u'20170424115752'}, {u'fr_timestamp': u'20170424115856'}, {u'fr_timestamp': u'20170424120653'}, {u'fr_timestamp': u'20170424120828'}, {u'fr_timestamp': u'20170424121010'}, {u'fr_timestamp': u'20170424121435'}, {u'fr_timestamp': u'20170424121616'}, {u'fr_timestamp': u'20170424121817'}, {u'fr_timestamp': u'20170424122002'}, {u'fr_timestamp': u'20170427150157'}, {u'fr_timestamp': u'20170501163611'}, {u'fr_timestamp': u'20170508111344'}, {u'fr_timestamp': u'20170525131027'}, {u'fr_timestamp': u'20170528132958'}, {u'fr_timestamp': u'20170531174835'}, {u'fr_timestamp': u'20170603012014'}, {u'fr_timestamp': u'20170612073722'}, {u'fr_timestamp': u'20170622211500'}, {u'fr_timestamp': u'20170625100601'}, {u'fr_timestamp': u'20170706102214'}, {u'fr_timestamp': u'20170726042407'}, {u'fr_timestamp': u'20170803190546'}, {u'fr_timestamp': u'20170807164604'}, {u'fr_timestamp': u'20170808150427'}, {u'fr_timestamp': u'20170809034251'}, {u'fr_timestamp': u'20170821055737'}, {u'fr_timestamp': u'20170822032041'}, {u'fr_timestamp': u'20170822032220'}, {u'fr_timestamp': u'20170822095837'}, {u'fr_timestamp': u'20170903083924'}, {u'fr_timestamp': u'20170907190324'}, {u'fr_timestamp': u'20170908031633'}, {u'fr_timestamp': u'20170908112756'}, {u'fr_timestamp': u'20170910221356'}, {u'fr_timestamp': u'20170912122038'}, {u'fr_timestamp': u'20170913072936'}, {u'fr_timestamp': u'20170913105312'}, {u'fr_timestamp': u'20170913172633'}, {u'fr_timestamp': u'20170918190326'}, {u'fr_timestamp': u'20170923192004'}, {u'fr_timestamp': u'20170925172713'}, {u'fr_timestamp': u'20170925173851'}, {u'fr_timestamp': u'20170925174229'}, {u'fr_timestamp': u'20170930133604'}, {u'fr_timestamp': u'20171001160801'}], u'id': u'3793'}, {u'label': u'TO', u'properties': [], u'id': u'725230213'}]}}\n"
     ]
    }
   ],
   "source": [
    "rc = g.get_path(source_id='3793', source_label='FROM',target_id = '725230213', target_label = 'TO',  edge_labels = ['LINK'], depth = 2)\n",
    "print json.loads(rc)"
   ]
  },
  {
   "cell_type": "code",
   "execution_count": null,
   "metadata": {
    "collapsed": true
   },
   "outputs": [],
   "source": []
  }
 ],
 "metadata": {
  "kernelspec": {
   "display_name": "Python 2",
   "language": "python",
   "name": "python2"
  },
  "language_info": {
   "codemirror_mode": {
    "name": "ipython",
    "version": 2
   },
   "file_extension": ".py",
   "mimetype": "text/x-python",
   "name": "python",
   "nbconvert_exporter": "python",
   "pygments_lexer": "ipython2",
   "version": "2.7.13"
  }
 },
 "nbformat": 4,
 "nbformat_minor": 2
}
